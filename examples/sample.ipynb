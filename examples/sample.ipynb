{
 "cells": [
  {
   "cell_type": "markdown",
   "metadata": {},
   "source": [
    "# Interactive Demo: Recursive Field Math\n",
    "\n",
    "This notebook demonstrates the key features of the recursive-field-math-pro library with interactive examples.\n",
    "\n",
    "## Setup\n",
    "\n",
    "First, ensure the package is installed:"
   ]
  },
  {
   "cell_type": "code",
   "execution_count": null,
   "metadata": {},
   "outputs": [],
   "source": [
    "# Install if needed\n",
    "# !pip install -e .\n",
    "\n",
    "# Import key modules\n",
    "import sys\n",
    "import subprocess\n",
    "import json\n",
    "import matplotlib.pyplot as plt\n",
    "import numpy as np"
   ]
  },
  {
   "cell_type": "markdown",
   "metadata": {},
   "source": [
    "## 1. Lucas Number Generation\n",
    "\n",
    "Generate the first 10 Lucas numbers using the CLI:"
   ]
  },
  {
   "cell_type": "code",
   "execution_count": null,
   "metadata": {},
   "outputs": [],
   "source": [
    "# Generate Lucas numbers L_0 through L_10\n",
    "result = subprocess.run(['rfm', 'lucas', '0', '10'], capture_output=True, text=True)\n",
    "print(\"Lucas Numbers L_0 through L_10:\")\n",
    "print(result.stdout)"
   ]
  },
  {
   "cell_type": "markdown",
   "metadata": {},
   "source": [
    "## 2. Golden Ratio Convergence\n",
    "\n",
    "Analyze how L_{n+1}/L_n converges to the golden ratio φ:"
   ]
  },
  {
   "cell_type": "code",
   "execution_count": null,
   "metadata": {},
   "outputs": [],
   "source": [
    "# Analyze ratio convergence\n",
    "result = subprocess.run(['rfm', 'ratio', '8'], capture_output=True, text=True)\n",
    "print(\"Ratio Analysis (L_9/L_8):\")\n",
    "print(result.stdout)"
   ]
  },
  {
   "cell_type": "markdown",
   "metadata": {},
   "source": [
    "## 3. Signature Triple Analysis\n",
    "\n",
    "Explore the special properties of the signature triple (4, 7, 11):"
   ]
  },
  {
   "cell_type": "code",
   "execution_count": null,
   "metadata": {},
   "outputs": [],
   "source": [
    "# Signature triple summary\n",
    "result = subprocess.run(['rfm', 'sig'], capture_output=True, text=True)\n",
    "print(\"Signature Triple Analysis:\")\n",
    "print(result.stdout)\n",
    "\n",
    "# Egyptian fraction verification\n",
    "result = subprocess.run(['rfm', 'egypt'], capture_output=True, text=True)\n",
    "print(\"\\nEgyptian Fraction Decomposition:\")\n",
    "print(result.stdout)"
   ]
  },
  {
   "cell_type": "markdown",
   "metadata": {},
   "source": [
    "## 4. Field Geometry Visualization\n",
    "\n",
    "Generate and visualize the radial-angular field coordinates:"
   ]
  },
  {
   "cell_type": "code",
   "execution_count": null,
   "metadata": {},
   "outputs": [],
   "source": [
    "# Generate field coordinates\n",
    "result = subprocess.run(['rfm', 'field', '1', '20'], capture_output=True, text=True)\n",
    "print(\"Field Coordinates (r, θ) for n=1..20:\")\n",
    "print(result.stdout[:500] + \"...\" if len(result.stdout) > 500 else result.stdout)"
   ]
  },
  {
   "cell_type": "markdown",
   "metadata": {},
   "source": [
    "## 5. Next Steps\n",
    "\n",
    "- **Entropy Pump Analysis**: Run `python -m scripts.run_entropy_pump_harness` for chess game analysis\n",
    "- **Custom Research**: Integrate these tools into your mathematical research workflows\n",
    "- **Agent Integration**: Use `my_recursive_ai.py` for automated analysis pipelines\n",
    "- **Extended Analysis**: Explore continued fractions with `rfm cfrac`\n",
    "\n",
    "For more examples and documentation, visit the [GitHub repository](https://github.com/wizardaax/recursive-field-math-pro)."
   ]
  }
 ],
 "metadata": {
  "kernelspec": {
   "display_name": "Python 3",
   "language": "python",
   "name": "python3"
  },
  "language_info": {
   "codemirror_mode": {
    "name": "ipython",
    "version": 3
   },
   "file_extension": ".py",
   "name": "python",
   "nbconvert_exporter": "python",
   "pygments_lexer": "ipython3",
   "version": "3.9.0"
  }
 },
 "nbformat": 4,
 "nbformat_minor": 4
}